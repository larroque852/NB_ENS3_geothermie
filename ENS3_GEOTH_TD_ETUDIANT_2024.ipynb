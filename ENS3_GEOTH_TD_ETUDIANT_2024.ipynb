{
 "cells": [
  {
   "cell_type": "markdown",
   "metadata": {},
   "source": [
    "## Pour s'échauffer... ##\n",
    "\n",
    "\n",
    "quelques grandeurs physiques:\n",
    "- capacité thermique massique de la roche $c_R$ = 800 J/Kg/K\n",
    "- capacité thermique massique de l'eau $c_W$ = 4180 J/Kg/K\n",
    "- masse volumique de la roche $\\rho_R$ = 2600 Kg/m3\n",
    "- masse volumique de l'eau $\\rho_w$ = 1000 Kg/m3\n",
    "\n",
    "1. Quelle quantité d'énergie est perdue lorsqu'on refroidit 10 kilogrammes de roches de 2°C?\n",
    "2. Quelle quantité d'énergie est perdue lorsqu'on refroidit 10 litres d'eau de 2°C?\n",
    "3. Une roche a une conductivité thermique $\\lambda$ = 1.8 W/m/K. Le flux géothermique moyen est $\\phi$ = 64 mW/m2. La température moyenne en surface est $T_{surf}$ = 9.8 °C. Quelle température à la profondeur de 150 mètres peut on estimer en considérant un transfert thermique purement conductif et mono dimensionnel?"
   ]
  },
  {
   "cell_type": "code",
   "execution_count": 1,
   "metadata": {},
   "outputs": [
    {
     "name": "stdout",
     "output_type": "stream",
     "text": [
      "quantité NRJ 10 Kg de roche:-1.6e+04 Joules\n",
      "quantité NRJ 10 Kg eau:-8.4e+07 Joules\n"
     ]
    }
   ],
   "source": [
    "import numpy as np\n",
    "import pandas as pd\n",
    "import scipy.special as sp\n",
    "import matplotlib.pyplot as plt\n",
    "#import seaborn as sns\n"
   ]
  },
  {
   "cell_type": "markdown",
   "metadata": {},
   "source": [
    "4. On considère la succession géologique suivante:\n",
    "- 0 - 50 m: calcaire gréseux (perméabilité intrinsèque moyenne $k_{eq} =$ 1e-13 m2, conductivité thermique $\\lambda_{eq} =$ 2.6 W/m/K, masse volumique $\\rho =$ 2600 Kg/m3, capacité thermique massique $C_m =$  940 J/Kg/K)\n",
    "- 50 - 150 m: argile (perméabilité intrinsèque moyenne $k_{eq} =$ 1e-17 m2, conductivité thermique $\\lambda_{eq} =$ 0.9 W/m/K, masse volumique $\\rho =$ 2600 Kg/m3, capacité thermique massique $C_m =$  895 J/Kg/K)\n",
    "- 150 - 500 m: calcaire argileux (perméabilité intrinsèque moyenne $k_{eq} =$ 1e-12 m2, conductivité thermique $\\lambda_{eq} =$ 1.8 W/m/K, masse volumique $\\rho =$ 2400 Kg/m3, capacité thermique massique $C_m =$  917 J/Kg/K)\n",
    "- Température de surface T = 15°C\n",
    "\n",
    "Tracer le profil de température depuis la surface jusqu'à 500 mètres de profondeur, dans l'hypothèse d'un système purement conductif."
   ]
  },
  {
   "cell_type": "code",
   "execution_count": 1,
   "metadata": {},
   "outputs": [
    {
     "name": "stderr",
     "output_type": "stream",
     "text": [
      "/Users/admin/opt/anaconda3/lib/python3.8/site-packages/pandas/core/computation/expressions.py:20: UserWarning: Pandas requires version '2.7.3' or newer of 'numexpr' (version '2.7.1' currently installed).\n",
      "  from pandas.core.computation.check import NUMEXPR_INSTALLED\n"
     ]
    }
   ],
   "source": [
    "\n",
    "import numpy as np\n",
    "import pandas as pd\n",
    "import scipy.special as sp\n",
    "import matplotlib.pyplot as plt\n",
    "#import seaborn as sns\n"
   ]
  },
  {
   "cell_type": "markdown",
   "metadata": {},
   "source": [
    "## Propagation d'un signal thermique dans le sol I ##\n",
    "\n",
    "On considère un sol homogène à l'équilibre thermique avec la surface à une température $\\theta_0 = {10}$°C, en l'absence de flux géothermique. La température en surface augmente soudainement de 3 °C de manière durable.\\\\\n",
    "\n",
    "D'après l'équation de diffusivité thermique en régime conductif, pour une variation de température $\\Delta \\theta_0$ en surface durant une durée $t$, la variation de température $\\Delta \\theta$ à la profondeur $z$ au temps $t$ peut s'écrire:\n",
    "\n",
    "\\begin{equation*}\n",
    "\t\\Delta \\theta(z,t) = \\Delta \\theta_0 erfc\\left({}\\frac{z}{2\\sqrt{\\kappa t}}\\right)\n",
    "\\end{equation*}\n",
    "\n",
    "avec $\\kappa$ diffusivité thermique.\n",
    "\n",
    "Le sol est constitué par une formation calcaire dont les propriétés thermiques sont les suivantes:\n",
    "- conductivité thermique 1.6 W/m/K\n",
    "- capacité thermique massique 885 J/Kg/K\n",
    "- masse volumique $\\rho = 2600 Kg/m3\n",
    "\n",
    "Calculer et représenter le profil thermique dans le sous sol jusqu'à 100 mètres de profondeur au bout de 6 mois, 1 an, 5 ans, 10 ans et 50 ans"
   ]
  },
  {
   "cell_type": "code",
   "execution_count": 2,
   "metadata": {},
   "outputs": [],
   "source": [
    "\n",
    "import numpy as np\n",
    "import pandas as pd\n",
    "import scipy.special as sp\n",
    "import matplotlib.pyplot as plt\n",
    "#import seaborn as sns\n",
    "\n"
   ]
  },
  {
   "cell_type": "markdown",
   "metadata": {},
   "source": [
    "\n",
    "A partir de l'équation précédente, une valeur approchée de la profondeur de pénétration $z_a$  de la perturbation thermique $\\Delta \\theta_0$ durant $t$, pour laquelle $\\Delta \\theta(a) = 0$, est donnée par la formule:\n",
    "\\begin{equation*}\n",
    "\tz_a = \\pi \\sqrt{\\kappa t}\n",
    "\\end{equation*}\n",
    "\n",
    "Estimer la profondeur de pénétration pour la chaleur issue du rayonnement diurne durant une journée d'été et estimer la profondeur de pénétration pour les températures observées durant la saison d'été."
   ]
  },
  {
   "cell_type": "code",
   "execution_count": 13,
   "metadata": {},
   "outputs": [
    {
     "name": "stdout",
     "output_type": "stream",
     "text": [
      "profondeur de penetration diurne = 5.45e-01 m\n",
      "profondeur de penetration saisonnière = 8.44e+00 m\n"
     ]
    }
   ],
   "source": [
    "\n",
    "import numpy as np\n",
    "import pandas as pd\n",
    "import scipy.special as sp\n",
    "import matplotlib.pyplot as plt\n",
    "#import seaborn as sns\n"
   ]
  },
  {
   "cell_type": "markdown",
   "metadata": {},
   "source": [
    "## Propagation d'un signal thermique dans le sol II ##\n",
    "\n",
    "Sous nos latitudes, le signal de temp ́erature dans l’atmosphère à l’altitude du sol peut être modélisé à l’aide d’un signal périodique de la forme :\n",
    "$$ T(t) = \\bar{T} + A cos\\left[{\\frac{2 \\pi t}{T_0}}\\right]$$\n",
    "avec $\\bar{T}$ température moyenne, $T_0$ durée d'un cycle complet de température, $A$ l'amplitude thermique.\n",
    "\n",
    "\n",
    "En considérant un transfert thermique purement conductif pour un milieu homogène, la température $T(z)$  à la profondeur $z$ peut être exprimée selon:\n",
    "\n",
    "$$\n",
    "T(z,t) = \\bar{T} + A exp\\left[{-z\\sqrt{\\frac{\\pi}{\\kappa t_0}}}\\right]cos\\left[{\\frac{2 \\pi t}{t_0} - z\\sqrt{\\frac{\\pi}{\\kappa t_0}}}\\right]\n",
    "$$\n",
    "avec $\\kappa$ diffusivité thermique (m2/s)\n",
    "\n",
    "A partir de quelle profondeur le signal thermique de surface peut il être négligé?\n"
   ]
  },
  {
   "cell_type": "markdown",
   "metadata": {},
   "source": [
    "- A partir de quelle profondeur la variation de signal thermique de surface peut il être négligé?\n",
    "\n",
    "- Construire un graphique $T = f(z)$ permettant d'estimer l'amplitude des fluctuations temporelles durant une année climatique moyenne"
   ]
  },
  {
   "cell_type": "code",
   "execution_count": 3,
   "metadata": {},
   "outputs": [],
   "source": [
    "\n",
    "import numpy as np\n",
    "import pandas as pd\n",
    "import scipy.special as sp\n",
    "import matplotlib.pyplot as plt\n",
    "#import seaborn as sns\n"
   ]
  },
  {
   "cell_type": "markdown",
   "metadata": {},
   "source": [
    "En considérant un flux géothermique moyen $\\phi$ = 80 mW/m^2 et une conductivité thermique homogène dans le sous sol $\\lambda =2.6$ W/m/°C, construire le profil de température sur les 100 premiers mètres de profondeur."
   ]
  },
  {
   "cell_type": "code",
   "execution_count": 4,
   "metadata": {},
   "outputs": [],
   "source": [
    "\n",
    "import numpy as np\n",
    "import pandas as pd\n",
    "import scipy.special as sp\n",
    "import matplotlib.pyplot as plt\n",
    "#import seaborn as sns\n"
   ]
  },
  {
   "cell_type": "markdown",
   "metadata": {},
   "source": [
    "## Fonctionnement standard d'une pompe à chaleur ##\n",
    "1. ***Système en mode \"chauffage\": *** un système de chauffage est basé sur un capteur géothermique en nappe relié à une pompe à chaleur. La température moyenne de l'eau de l'aquifère de surface est de 11°C. Après valorisation, l'eau prélevée est rejetée à l'aquifère à une température de 7°C. La chaleur extraite par le dispositif géothermique est optimisée par la pompe à chaleur afin de délivrer une température $\\theta_{in}$ à l'intérieur. La pompe à chaleur a un coefficient de performance COP = 4.\n",
    "\n",
    "En considérant un débit de pompage Q = 2 L/s, quelle est la puissance délivrable en interne pour chauffer le bâtiment et quelle est la puissance electrique associée nécessaire si la puissance de chauffe réelle du batiment est de 40000 Watts??"
   ]
  },
  {
   "cell_type": "code",
   "execution_count": 6,
   "metadata": {},
   "outputs": [],
   "source": [
    "import numpy as np\n",
    "import pandas as pd\n",
    "import scipy.special as sp\n",
    "import matplotlib.pyplot as plt\n",
    "#import seaborn as sns\n"
   ]
  },
  {
   "cell_type": "markdown",
   "metadata": {},
   "source": [
    "2. **Système en mode \"rafraichissement\":** on considère un pompage qui fournit un débit Q = 1 L/s d'une eau à la température de $\\theta_{out}$ = 10°C. Un \"effet froid\" peut être obtenu par circulation passive du fluide dans le batiment. Cela se traduit par une augmentation de la température du fluide de 3°C. Quelle est la puissance de rafraichissement du domicile ainsi obtenue? Pour augmenter cet effetd e froid, on utilise une pompe à chaleur de COPc = 5.5 qui permet de valoriser un $\\Delta \\theta$  = 5 °C. Quelle est la puissance de rafraichissement du domicile obtenue et quelle est la consommation électrique associée?\n",
    "La puissance de rafraichissement géothermique $C$ peut être définie:\n",
    "$$\n",
    "C = Q \\Delta \\theta C_w\n",
    "$$\n",
    "avec $\\Delta \\theta$ la différence de température entre eau pompée et eau en sortie de circuit de rafraichissement.\n",
    "\n",
    "Avec une pompe à chaleur en mode froid actif, on valorise un $\\Delta \\theta$  = 5 °C avec une COPc = 5.5.\n",
    "La puissance de rafraichissement s'exprime:\n",
    "$$\n",
    "C = \\frac{Q \\Delta \\theta C_w}{1 + 1/COP_c}\n",
    "$$\n"
   ]
  },
  {
   "cell_type": "code",
   "execution_count": 5,
   "metadata": {},
   "outputs": [],
   "source": [
    "import numpy as np\n",
    "import pandas as pd\n",
    "import scipy.special as sp\n",
    "import matplotlib.pyplot as plt\n",
    "import math\n",
    "#import seaborn as sns\n"
   ]
  },
  {
   "cell_type": "markdown",
   "metadata": {},
   "source": [
    "## Dimensionnement d'un dispositif de géothermie très basse énergie - Dispositif vertical ##\n",
    "\n",
    "On considère une maison particulière ancienne assez bien isolée d'une superficie de 120 m2, de 2.5 m de hauteur sous plafond et située sur un sol argileux sec.\n",
    "La température hivernale locale peut atteindre les -6°C. La température de chauffage intérieure projetée est de 19°C.\n",
    "\n",
    "La puissance de pointe P (W) à installer pour une habitation particulière peut être approchée par:\n",
    "$$\n",
    "P = G \\times V \\times \\left[ Tint - Text \\right]\n",
    "$$\n",
    "<figure>\n",
    "  <IMG SRC=\"dim.png\" WIDTH=500 ALIGN=\"center\">\n",
    "</figure>\n",
    "    \n",
    "La maison est située sur des formations constituées par des sables et graviers saturés.\n",
    "Le dispositif de chauffage envisagé est constitué par un système de sondes verticales couplées en surface à une pompe à chaleur. La pompe à chaleur fournie dans le cahier des charges présente un coefficient de performance COP = 4.\n",
    "\n",
    "<figure>\n",
    "  <IMG SRC=\"sonde4.png\" WIDTH=500 ALIGN=\"center\">\n",
    "</figure>\n",
    "    "
   ]
  },
  {
   "cell_type": "markdown",
   "metadata": {},
   "source": [
    "1. Calculer la puissance de chauffe du bâtiment.\n",
    "2. Considérant un fonctionnement de pleine charge équivalent de 2400 heures, en fonction de la nature du terrain et d'après la legislation locale qui restreint la longueur de sonde maximale à 60 mètre, estimer le nombre de sonde nécessaire pour restituer la puissance de chauffe à l'entrée de la PAC."
   ]
  },
  {
   "cell_type": "code",
   "execution_count": 7,
   "metadata": {},
   "outputs": [],
   "source": [
    "import numpy as np\n",
    "import pandas as pd\n",
    "import scipy.special as sp\n",
    "import matplotlib.pyplot as plt\n",
    "import math as math\n"
   ]
  },
  {
   "cell_type": "markdown",
   "metadata": {},
   "source": [
    "3. On considère un écoulement orienté Ouest-Est de gradient hydraulique de l'ordre de 1 % à travers les graviers et sables. La conductivité hydraulique moyenne est de l'ordre de 10-6 m/s. La porosité efficace est de l'ordre de 15%. D'après la bibliographie, les propriétés thermiques du sol sont les suivantes:\n",
    "- Cm = 2.3e6 J/m3/K chaleur vol. moyenne du sol\n",
    "- Cw = 4.18e6 J/m3/K chaleur moyenne de l'eau\n",
    "- lm = 1.6 W/m/K cond. therm. moyenne du sol\n",
    "\n",
    "**Solution analytique pour l'impact d'une sonde infinie en milieu (modèle MILS) en régime permanent et gradient hydraulique, pour un point d'observation quelconque de coordonnées (x,y)**\n",
    "\n",
    "$$\t\\Delta T(x,y) = \\frac{q_{b}}{2 \\pi \\lambda_m}exp\\left[{\\frac{V_T x}{2\\kappa}}\\right] K_0 \\left[{\\frac{V_T\\sqrt{x^2 + y^2}}{2\\kappa}}\\right]\n",
    "$$\n",
    "avec $q_b$ puissance linéique (W/m) extraite à la sonde, $V_T$ vitesse thermique dans le sens de l'écoulement, $\\kappa$ diffusivité thermique du milieu souterrain, $K_0$ fonction de Bessel modifiée du second genre d'ordre 0\n",
    "\n",
    " - A partir du code fourni pour la solution analytique, tester l'impact thermique pour une sonde unique pour un point d'observation situé à la distance $x$ en aval hydraulique direct.\n",
    " \n",
    "- Proposer une cartographie de l'impact thermique sur une zone de coordonnées (Xmin = -20 m, Xmax = 100 m, Ymin = -50 m, Ymax = 50 m) pour le dispositif de sondes retenu.\n",
    "Les coordonnées des sondes dans le repère cartésien sont:\n",
    "sonde 1: Xsonde1 = 0 m et Ysonde1 = 5 m\n",
    "sonde 2: Xsonde2 = 0 m et Ysonde2 = -5 m\n",
    "\n",
    "- Quelles remarques pouvez vous faire sur les r&ésultats obtenus et quelle modification pourrait être portée pour améliorer les résultats?"
   ]
  },
  {
   "cell_type": "code",
   "execution_count": 8,
   "metadata": {},
   "outputs": [
    {
     "ename": "SyntaxError",
     "evalue": "invalid syntax (<ipython-input-8-50f219f2969e>, line 13)",
     "output_type": "error",
     "traceback": [
      "\u001b[0;36m  File \u001b[0;32m\"<ipython-input-8-50f219f2969e>\"\u001b[0;36m, line \u001b[0;32m13\u001b[0m\n\u001b[0;31m    lm =  # conductivité thermique milieu souterrain [W/m/K]\u001b[0m\n\u001b[0m          ^\u001b[0m\n\u001b[0;31mSyntaxError\u001b[0m\u001b[0;31m:\u001b[0m invalid syntax\n"
     ]
    }
   ],
   "source": [
    "import numpy as np\n",
    "import pandas as pd\n",
    "import scipy.special as sp\n",
    "import matplotlib.pyplot as plt\n",
    "\n",
    "\n",
    "#Sonde unique pour un point d'observation situé à la distance $x$ en aval hydraulique direct de la sonde thermique\n",
    "def sonde_inf_steady(x,lm,Cm,vT,qb):\n",
    "    kappa = lm/Cm;\n",
    "    return qb * (1 / 2 / 3.1415 / lm) * np.exp(vT * x / 2 / kappa) * sp.k0(vT * x / 2 /kappa)\n",
    "\n",
    "\n",
    "lm =  # conductivité thermique milieu souterrain [W/m/K]\n",
    "Cm =  #capacité thermiqsue volumique milieu souterrain [J/m3/K]\n",
    "Cw =  #capacité thermiqsue volumique eau [J/m3/K]\n",
    "qb =  # puissance linéique de la sonde [W/m]\n",
    "omega =  # porosite efficace\n",
    "K = #conductivité hydraulique"
   ]
  },
  {
   "cell_type": "code",
   "execution_count": 9,
   "metadata": {},
   "outputs": [
    {
     "ename": "SyntaxError",
     "evalue": "invalid syntax (<ipython-input-9-589e95df6995>, line 13)",
     "output_type": "error",
     "traceback": [
      "\u001b[0;36m  File \u001b[0;32m\"<ipython-input-9-589e95df6995>\"\u001b[0;36m, line \u001b[0;32m13\u001b[0m\n\u001b[0;31m    lm =  # conductivité thermique milieu souterrain [W/m/K]\u001b[0m\n\u001b[0m          ^\u001b[0m\n\u001b[0;31mSyntaxError\u001b[0m\u001b[0;31m:\u001b[0m invalid syntax\n"
     ]
    }
   ],
   "source": [
    "import numpy as np\n",
    "import pandas as pd\n",
    "import scipy.special as sp\n",
    "import matplotlib.pyplot as plt\n",
    "\n",
    "\n",
    "#Sonde unique pour un point d'observation situé à la distance $x$ en aval hydraulique direct de la sonde thermique\n",
    "def sonde_inf_steady(x,lm,Cm,vT,qb):\n",
    "    kappa = lm/Cm;\n",
    "    return qb * (1 / 2 / 3.1415 / lm) * np.exp(vT * x / 2 / kappa) * sp.k0(vT * x / 2 /kappa)\n",
    "\n",
    "\n",
    "lm =  # conductivité thermique milieu souterrain [W/m/K]\n",
    "Cm =  #capacité thermiqsue volumique milieu souterrain [J/m3/K]\n",
    "Cw =  #capacité thermiqsue volumique eau [J/m3/K]\n",
    "qb =  # puissance linéique de la sonde [W/m]\n",
    "omega =  # porosite efficace\n",
    "K = #conductivité hydraulique\n",
    "\n"
   ]
  },
  {
   "cell_type": "code",
   "execution_count": 3,
   "metadata": {},
   "outputs": [
    {
     "ename": "SyntaxError",
     "evalue": "invalid syntax (<ipython-input-3-ffc8b3cb69d8>, line 12)",
     "output_type": "error",
     "traceback": [
      "\u001b[0;36m  File \u001b[0;32m\"<ipython-input-3-ffc8b3cb69d8>\"\u001b[0;36m, line \u001b[0;32m12\u001b[0m\n\u001b[0;31m    lm =  # conductivité thermique milieu souterrain [W/m/K]\u001b[0m\n\u001b[0m          ^\u001b[0m\n\u001b[0;31mSyntaxError\u001b[0m\u001b[0;31m:\u001b[0m invalid syntax\n"
     ]
    }
   ],
   "source": [
    "import numpy as np\n",
    "import pandas as pd\n",
    "import scipy.special as sp\n",
    "import matplotlib.pyplot as plt\n",
    "\n",
    "#Impact sonde unique de coordonnées (x,y,X0,Y0) pour un point d'observation situé aux coordonnées (x,y) en aval hydraulique direct de la sonde thermique\n",
    "def sonde_inf_steady(x, y, X0, Y0, lm,Cm,vT,qb):\n",
    "    kappa = lm/Cm;\n",
    "    r = np.sqrt((x-X0) ** 2 + (y-Y0) ** 2)\n",
    "    return qb * (1 / 2 / 3.1415 / lm) * np.exp(vT * (x-X0) / 2 / kappa) * sp.k0(vT * r / 2 /kappa)\n",
    "\n",
    "lm =  # conductivité thermique milieu souterrain [W/m/K]\n",
    "Cm =  #capacité thermiqsue volumique milieu souterrain [J/m3/K]\n",
    "Cw =  #capacité thermiqsue volumique eau [J/m3/K]\n",
    "qb =  # puissance linéique de la sonde [W/m]\n",
    "omega =  # porosite efficace\n",
    "K = #conductivité hydraulique\n"
   ]
  },
  {
   "cell_type": "markdown",
   "metadata": {},
   "source": [
    "REMARQUE: les impacts thermiques semblent très importants. La solution analytique calcule l'impact de la sonde en régime permanent. Hors la puissance linéique retenue pour chaque sonde corresponds à une extraction de 2400h/an.\n",
    "\n",
    "Il faut recalculer une puissance linéique équivalente lissée sur une année moyenne pour utiliser la solution analytique.\n",
    "On peut ensuite relancer la solution 2D pour les deux sondes."
   ]
  },
  {
   "cell_type": "code",
   "execution_count": 4,
   "metadata": {},
   "outputs": [
    {
     "ename": "SyntaxError",
     "evalue": "invalid syntax (<ipython-input-4-c3185795d9c2>, line 13)",
     "output_type": "error",
     "traceback": [
      "\u001b[0;36m  File \u001b[0;32m\"<ipython-input-4-c3185795d9c2>\"\u001b[0;36m, line \u001b[0;32m13\u001b[0m\n\u001b[0;31m    lm =  # conductivité thermique milieu souterrain [W/m/K]\u001b[0m\n\u001b[0m          ^\u001b[0m\n\u001b[0;31mSyntaxError\u001b[0m\u001b[0;31m:\u001b[0m invalid syntax\n"
     ]
    }
   ],
   "source": [
    "import numpy as np\n",
    "import pandas as pd\n",
    "import scipy.special as sp\n",
    "import matplotlib.pyplot as plt\n",
    "\n",
    "#Impact sonde unique de coordonnées (x,y,X0,Y0) pour un point d'observation situé aux coordonnées (x,y) en aval hydraulique direct de la sonde thermique\n",
    "def sonde_inf_steady(x, y, X0, Y0, lm,Cm,vT,qb):\n",
    "    kappa = lm/Cm;\n",
    "    r = np.sqrt((x-X0) ** 2 + (y-Y0) ** 2)\n",
    "    return qb * (1 / 2 / 3.1415 / lm) * np.exp(vT * (x-X0) / 2 / kappa) * sp.k0(vT * r / 2 /kappa)\n",
    "\n",
    "\n",
    "lm =  # conductivité thermique milieu souterrain [W/m/K]\n",
    "Cm =  #capacité thermiqsue volumique milieu souterrain [J/m3/K]\n",
    "Cw =  #capacité thermiqsue volumique eau [J/m3/K]\n",
    "qb =  # puissance linéique de la sonde [W/m]\n",
    "omega =  # porosite efficace\n",
    "K = #conductivité hydraulique\n"
   ]
  },
  {
   "cell_type": "markdown",
   "metadata": {},
   "source": [
    "4. Comportement transitoire du champ de sondes\n",
    "**Solution analytique pour l'impact d'une sonde infinie en milieu (modèle MILS) en régime transitoire et gradient hydraulique, pour un point d'observation quelconque de coordonnées (x,y) au temps d'observation $t$**\n",
    "$$\n",
    "T(x,y,t) = T_0 + \\frac{q_{tb}}{4 \\pi \\lambda_m} exp\\left[{\\frac{v_t x}{16 D_t^2 \\psi}}\\right]\\int_{r^2 / 4 D_t t}^{\\infty} exp\\left[{-\\psi - \\frac{v_t^2r^2}{2 D_t}}\\right] \\, \\frac{\\mathrm{d}\\psi}{\\psi}\n",
    "$$\n",
    "\n",
    "A partir de cette solution, estimer l'impact thermique du doublet de sondes à un point d'observation quelconque pour une période de 100 ans.\n",
    "\n",
    "*Attention au repérage cartésien de votre point d'observation et à la manière où il sera codé dans le cadre d'un système composé de 2 sondes*"
   ]
  },
  {
   "cell_type": "code",
   "execution_count": 5,
   "metadata": {},
   "outputs": [
    {
     "ename": "SyntaxError",
     "evalue": "invalid syntax (<ipython-input-5-50ca26d710a4>, line 17)",
     "output_type": "error",
     "traceback": [
      "\u001b[0;36m  File \u001b[0;32m\"<ipython-input-5-50ca26d710a4>\"\u001b[0;36m, line \u001b[0;32m17\u001b[0m\n\u001b[0;31m    lm =  # conductivité thermique milieu souterrain [W/m/K]\u001b[0m\n\u001b[0m          ^\u001b[0m\n\u001b[0;31mSyntaxError\u001b[0m\u001b[0;31m:\u001b[0m invalid syntax\n"
     ]
    }
   ],
   "source": [
    "from scipy.integrate import quad  # Module d'intégration \"quad\"\n",
    "\n",
    "import numpy as np\n",
    "import pandas as pd\n",
    "import scipy.special as sp\n",
    "import matplotlib.pyplot as plt\n",
    "#import seaborn as sns\n",
    "\n",
    "def sonde_inf_trans(x, y, X0, Y0, lm,Cm,vT,qb,t):\n",
    "    kappa = lm/Cm;\n",
    "    r1 = ((x-X0) ** 2 + (y-Y0) ** 2)\n",
    "    def kernel(psi):\n",
    "        return (1/psi) * np.exp(-psi-vT ** 2 * r1 / 16 / kappa ** 2 / psi)\n",
    "    return qb*(1/4/3.1415/lm) * np.exp(vT * x / 2 / kappa) * (quad(kernel,r1 / 4 / kappa /t,np.inf)[0])\n",
    "\n",
    "\n",
    "lm =  # conductivité thermique milieu souterrain [W/m/K]\n",
    "Cm =  #capacité thermiqsue volumique milieu souterrain [J/m3/K]\n",
    "Cw =  #capacité thermiqsue volumique eau [J/m3/K]\n",
    "qb =  # puissance linéique de la sonde [W/m]\n",
    "omega =  # porosite efficace\n",
    "K = #conductivité hydraulique\n"
   ]
  },
  {
   "cell_type": "markdown",
   "metadata": {},
   "source": [
    "## Dimensionnement d'un dispositif de géothermie très basse énergie sur nappe ##\n",
    "\n",
    "### Caractérisation hydrogéologique ###\n",
    "On considère un aquifère libre de transmissivité constante $T =$ 150 m2/j et d'épaisseur de 75 mètres. La porosité efficace est de 10%. Le gradient hydraulique ouest-est est de l'ordre de 0.01.\n",
    "\n",
    "La capacité volumétrique moyenne de l'aquifère est $C_m$ = 2.3e6 J/m3/K et celle de l'eau est $C_w$ = 4.2e6 J/m3/K.\n",
    "\n",
    "On considère un puits de rayon $r$ = 100 mm qui capte l'aquifère. Le puits sera pompé pour la période de chauffage durant 180 jours au débit de 10 L/s. Quel rabattement est envisageable au puits de production? Quelle critique peut on formuler sur ce résultat?\n",
    "\n",
    "L'eau prélevée est réinjectée dans un puits situé à $d$ = 100 mètres en aval hydraulique du puits de pompage. Quel est gradient hydraulique attendu entre les deux ouvrages en l'absence de gradient hydraulique?\n"
   ]
  },
  {
   "cell_type": "code",
   "execution_count": 6,
   "metadata": {},
   "outputs": [
    {
     "name": "stderr",
     "output_type": "stream",
     "text": [
      "/Users/admin/opt/anaconda3/lib/python3.8/site-packages/pandas/core/computation/expressions.py:20: UserWarning: Pandas requires version '2.7.3' or newer of 'numexpr' (version '2.7.1' currently installed).\n",
      "  from pandas.core.computation.check import NUMEXPR_INSTALLED\n"
     ]
    }
   ],
   "source": [
    "import numpy as np\n",
    "import pandas as pd\n",
    "import scipy.special as sp\n",
    "import math as math\n",
    "import matplotlib.pyplot as plt\n"
   ]
  },
  {
   "cell_type": "markdown",
   "metadata": {},
   "source": [
    "Réaliser un document présentant:\n",
    "- une carte piézométrique du régime d'écoulement naturel non influencé (Houest = 50 mNG)\n",
    "- une carte d'impact hydraulique après 180 jours d'exploitation du doublet\n",
    "- une carte piézométrique synthétique présentant l'impact de 180 jours d'exploitation du doublet sur la nappe.\n",
    "\n",
    "On considérera les caractéristiques géographiques suivantes pour le domaine:\n",
    "- dimensions du domaine de représentation: ordonnées 0 - 500 m ; abscisses 0 - 400 m\n",
    "- coordonnées du champ captant (coordonnées cartésiennes)\n",
    "    - Forage de production (200,200)\n",
    "    - Forage d'injection (300,200)\n"
   ]
  },
  {
   "cell_type": "code",
   "execution_count": 7,
   "metadata": {},
   "outputs": [],
   "source": [
    "import numpy as np\n",
    "import pandas as pd\n",
    "import scipy.special as sp\n",
    "import math as math\n",
    "import matplotlib.pyplot as plt\n"
   ]
  },
  {
   "cell_type": "markdown",
   "metadata": {},
   "source": [
    "3. Caractérisation thermique et hydraulique du doublet pour une valorisation thermique $\\Delta T = 10$°C et une pompe à chaleur de COP = 4\n",
    "- puissance de chauffe fournie au bâtiment\n",
    "- beta\n",
    "$$\n",
    "\\beta = \\frac{2Q}{T \\pi L i}\n",
    "$$\n",
    "- fraction recyclage hydraulique\n",
    "$$\n",
    "f_{hyd} =1 - \\frac{2}{\\pi}\\left[ {tan^{-1} \\left( {\\frac{1}{\\sqrt{\\beta - 1}}} + \\frac{\\sqrt{\\beta - 1}}{\\beta} \\right)} \\right]\n",
    "$$\n",
    "- temps d'arrivée front hydraulique au puits $t^F_{hyd}$:\n",
    "$$\n",
    "t^F_{hyd} = \\frac{n_e L}{K i}\\left[ {\\frac{\\beta}{\\sqrt{\\beta-1}}} tan^{-1} \\left( {\\frac{1}{\\sqrt{\\beta - 1}}} \\right) -1 \\right]\n",
    "$$\n",
    "- temps d'arrivée front thermique au puits $t^F_{hyd}$:\n",
    "$$\n",
    "t_{the} = \\frac{C_{aq}}{C_w} \\frac{L}{K i}\\left[ {\\frac{\\beta}{\\sqrt{\\beta - 1}}} tan^{-1} \\left( {\\frac{1}{\\sqrt{\\beta - 1}}} \\right) - 1 \\right]\n",
    "$$\n"
   ]
  },
  {
   "cell_type": "code",
   "execution_count": 4,
   "metadata": {},
   "outputs": [
    {
     "name": "stdout",
     "output_type": "stream",
     "text": [
      "Puissance de chauffe délivrée au batiment: 560000.0 Watt\n"
     ]
    }
   ],
   "source": [
    "import numpy as np\n",
    "import pandas as pd\n",
    "import scipy.special as sp\n",
    "import math as math\n",
    "import matplotlib.pyplot as plt\n"
   ]
  },
  {
   "cell_type": "markdown",
   "metadata": {},
   "source": [
    "3. L'aquifère précédent a une épaisseur de 75 mètres. Le gradient hydraulique ouest-est est de l'ordre de 0.01. On injecte un traceur chimique parfait dans le puits \"chaud\" au débit de 10 L/s. Dans ce puits, l'eau injectée avec le traceur est refroidie de 10°C. \n",
    "Au bout de combien de temps le traceur atteindra un piézométre situé à 150 mètres dans le sens de l'écoulement. Combien de temps mettra le front thermique à atteindre ce piézomètre?\n"
   ]
  },
  {
   "cell_type": "code",
   "execution_count": 13,
   "metadata": {},
   "outputs": [],
   "source": [
    "import numpy as np\n",
    "import scipy.special as sp\n",
    "import matplotlib.pyplot as plt\n",
    "\n"
   ]
  },
  {
   "cell_type": "markdown",
   "metadata": {},
   "source": [
    "## Dimensionnement d'un dispositif de géothermie très basse énergie sur nappe ##\n",
    "\n",
    "### Système non aligné avec l'écoulement régional --> ABAQUES BRGM ###\n",
    "\n",
    "On considère un aquifère captif de transmissivité constante $T =$ 6e-3 m2/s et d'épaisseur de 20 mètres. La porosité efficace est de 10%. Le gradient hydraulique ouest-est est de l'ordre de 0.001.\n",
    "\n",
    "La capacité volumétrique moyenne de l'aquifère est $C_a$ = 2.6e6 J/m3/K. Celle de l'éponte est $C_e$ = 2.5e6 J/m3/K et celle de l'eau est $C_w$ = 4.2e6 J/m3/K.\n",
    "\n",
    "On considère un puits de rayon $r$ = 100 mm qui capte l'aquifère. Le puits sera pompé pour la période de chauffage durant 180 jours au débit de 100 m3/s, 8 heures par jour et 6 mois par an. \n",
    "\n",
    "L'eau prélevée est réinjectée dans un puits situé à $d$ = 200 mètres du puits de pompage.\n",
    "\n",
    "Calculer le temps de percée et le taux de recyclage du dispositif pour les configurations suivantes:\n",
    "1. Implantation parallèle à l'écoulement, puits de réinjection en aval\n",
    "2. Implantation parallèle à l'écoulement, puits de réinjection en amont\n",
    "3. Implantation parallèle à l'écoulement, puits de réinjection en aval, écoulement à 45 degrés vers le nord-est\n",
    "4. Prise en compte des échanges thermiques avec les épontes encaissantes"
   ]
  },
  {
   "cell_type": "code",
   "execution_count": null,
   "metadata": {},
   "outputs": [],
   "source": []
  },
  {
   "cell_type": "markdown",
   "metadata": {},
   "source": [
    "## (WORK IN PROGRESS !!!) Fonctionnement standard d'un doublet - FEFLOW (WORK IN PROGRESS !!!) ##\n",
    "\n",
    "### Comparaison modèle FEFLOW avec solutions analytiques\n"
   ]
  },
  {
   "cell_type": "code",
   "execution_count": null,
   "metadata": {},
   "outputs": [],
   "source": [
    "import numpy as np\n",
    "import scipy.special as sp\n",
    "import matplotlib.pyplot as plt"
   ]
  }
 ],
 "metadata": {
  "kernelspec": {
   "display_name": "Python 3",
   "language": "python",
   "name": "python3"
  },
  "language_info": {
   "codemirror_mode": {
    "name": "ipython",
    "version": 3
   },
   "file_extension": ".py",
   "mimetype": "text/x-python",
   "name": "python",
   "nbconvert_exporter": "python",
   "pygments_lexer": "ipython3",
   "version": "3.8.3"
  }
 },
 "nbformat": 4,
 "nbformat_minor": 4
}
