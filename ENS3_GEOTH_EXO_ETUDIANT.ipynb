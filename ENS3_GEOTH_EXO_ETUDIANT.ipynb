{
 "cells": [
  {
   "cell_type": "markdown",
   "metadata": {},
   "source": [
    "## Pour s'échauffer... ##\n",
    "\n",
    "quelques grandeurs physiques:\n",
    "- capacité thermique massique de la roche $c_R$ = 800 J/Kg/K\n",
    "- capacité thermique massique de l'eau $c_W$ = 4600 J/Kg/K\n",
    "- masse volumique de la roche $\\rho_R$ = 2600 Kg/m3\n",
    "- masse volumique de l'eau $\\rho_w$ = 1000 Kg/m3\n",
    "\n",
    "1. Quelle quantité d'énergie est perdue lorsqu'on refroidit 10 kilogrammes de roches de 2°C?\n",
    "2. Quelle quantité d'énergie est perdue lorsqu'on refroidit 10 litres d'eau de 2°C?\n",
    "3. Une roche a une conductivité thermique $\\lambda$ = 1.8 W/m/K. Le flux géothermique moyen est $\\phi$ = 64 mW/m2. La température moyenne en surface est $T_{surf}$ = 9.8 °C. Quelle température à la profondeur de 150 mètres peut on estimer en considérant un transfert thermique purement conductif et mono dimensionnel?\n",
    "4. On considère la succession géologique suivante:\n",
    "- 0 - 50 m: calcaire gréseux (perméabilité intrinsèque moyenne $k_{eq} =$ 1e-13 m2, conductivité thermique $\\lambda_{eq} =$ 2.6 W/m/K, masse volumique $\\rho =$ 2600 Kg/m3, capacité thermique massique $c_m =$  940 J/Kg/K)\n",
    "- 50 - 150 m: argile (perméabilité intrinsèque moyenne $k_{eq} =$ 1e-17 m2, conductivité thermique $\\lambda_{eq} =$ 0.9 W/m/K, masse volumique $\\rho =$ 2600 Kg/m3, capacité thermique massique $c_m =$  895 J/Kg/K)\n",
    "- 150 - 500 m: calcaire argileux (perméabilité intrinsèque moyenne $k_{eq} =$ 1e-12 m2, conductivité thermique $\\lambda_{eq} =$ 1.8 W/m/K, masse volumique $\\rho =$ 2400 Kg/m3, capacité thermique massique $c_m =$  917 J/Kg/K)\n",
    "\n",
    "Tracer le profil de température depuis la surface jusqu'à 500 mètres de profondeur, dans l'hypothèse d'un système purement conductif."
   ]
  },
  {
   "cell_type": "code",
   "execution_count": 68,
   "metadata": {},
   "outputs": [],
   "source": [
    "import numpy as np\n",
    "import pandas as pd\n",
    "import scipy.special as sp\n",
    "import matplotlib.pyplot as plt\n",
    "\n"
   ]
  },
  {
   "cell_type": "markdown",
   "metadata": {},
   "source": [
    "## Propagation d'un signal thermique dans le sol I ##\n",
    "\n",
    "On considère un sol homogène à l'équilibre thermique avec la surface à une température $\\theta_0 = 10$°C, en l'absence de flux géothermique. La température en surface augmente soudainement de 3 °C.\\\\\n",
    "Une solution à l'équation de diffusivité pour un milieu 1D vertical pour la variation de température à la profondeur $z$ au temps $t$ peut s'écrire:\n",
    "\\begin{equation*}\n",
    "\t\\Delta \\theta(z,t) = \\Delta \\theta_0 erfc\\left({}\\frac{z}{2\\sqrt{\\kappa t}}\\right)\n",
    "\\end{equation*}\n",
    "\n",
    "\n",
    "Le sol est constitué par une formation calcaire dont les propriétés thermiques sont les suivantes:\n",
    "- conductivité thermique 1.6 W/m/K\n",
    "- capacité thermique massique 885 J/Kg/K\n",
    "- masse volumique $\\rho$ = 2600 Kg/m3\n",
    "\n",
    "Calculer et représenter le profil thermique dans le sous sol jusqu'à 100 mètres de profondeur au bout de 6 mois, 1 an, 5 ans, 10 ans et 50 ans"
   ]
  },
  {
   "cell_type": "code",
   "execution_count": 69,
   "metadata": {},
   "outputs": [],
   "source": [
    "import numpy as np\n",
    "import pandas as pd\n",
    "import scipy.special as sp\n",
    "import matplotlib.pyplot as plt\n"
   ]
  },
  {
   "cell_type": "markdown",
   "metadata": {},
   "source": [
    "Estimer la profondeur de pénétration pour la chaleur issue du rayonnement diurne durant une journée d'été et estimer la profondeur de pénétration pour les températures observées durant la saison d'été."
   ]
  },
  {
   "cell_type": "code",
   "execution_count": null,
   "metadata": {},
   "outputs": [],
   "source": [
    "\n"
   ]
  },
  {
   "cell_type": "markdown",
   "metadata": {},
   "source": [
    "## Propagation d'un signal thermique dans le sol II ##\n",
    "\n",
    "On souhaite estimer les propriétés thermiques d'un sol. On dispose d'un enregistrement journalier de température en surface dans l'air, obtenu à une station météorologique.\n",
    "On dispose également de quelques mesures de température observées sur 2 sondes de température implantées à 2 profondeurs différentes.\n",
    "\n",
    "On souhaite utiliser l'équation de diffusivité thermique pour procéder à l'estimation des paramètres.\n",
    "\n",
    "1. A partir du fichier brut d'observations, représenter les températures observées en surface et en déduire les paramèters descriptifs représentatifs."
   ]
  },
  {
   "cell_type": "code",
   "execution_count": 75,
   "metadata": {},
   "outputs": [],
   "source": [
    "import numpy as np\n",
    "import pandas as pd\n",
    "import scipy.special as sp\n",
    "import matplotlib.pyplot as plt\n",
    "\n",
    "#chargement des donnees de temperature (chargement \"dataframe\" pour beneficier des fonctionnalites \"temporelles\")\n",
    "# on utilise un index temporel pour les fonctionnalites \"time series\" de la bibliotheque Pandas\n",
    "idx = pd.date_range(\"2019-04-01\", periods=753, freq=\"d\")\n",
    "theta_mes = pd.DataFrame(\n",
    "    data={'temp': np.loadtxt(\"https://raw.githubusercontent.com/larroque852/NB_ENS3_geothermie/main/air_temperature.csv\", delimiter=',', usecols=(2,), unpack=True)},\n",
    "    index=idx)"
   ]
  },
  {
   "cell_type": "markdown",
   "metadata": {},
   "source": [
    "2. \n",
    "Proposer un modèle analytique susceptible de représenter les températures observées en surface"
   ]
  },
  {
   "cell_type": "code",
   "execution_count": 76,
   "metadata": {},
   "outputs": [],
   "source": [
    "#hypothese modele cosinus --> theta = theta_mean + Acos( wt + lag)\n",
    "# les parametres doivent etre estimes à partir des donnees --> ajustement manuel\n",
    "\n",
    "\n",
    "\n"
   ]
  },
  {
   "cell_type": "markdown",
   "metadata": {},
   "source": [
    "3. On dispose de trois sondes qui on permis d'enregistrer l'évolution temporelle de la température à 3 profondeurs différentes:\n",
    "- 2 mètres: ENS_GEOT_TD_temp_2m.csv\n",
    "- 8 mètres: ENS_GEOT_TD_temp_8m.csv\n",
    "- 11 mètres: ENS_GEOT_TD_temp_11m.csv\n",
    "\n",
    "Les 3 sondes ont été lancées en aquisition le 01/04/2019 avec un index temporel journalier sur une période totale de 753 jours\n",
    "\n",
    "En supposant en surface un signal périodique de la forme:\n",
    "$$ T(t) = \\bar{T} + A cos\\left[{\\frac{2 \\pi t}{t_0}}\\right]$$\n",
    "avec $\\bar{T}$ température moyenne, $t_0$ durée d'un cycle complet de température, la température à la profondeur $z$ peut être exprimée:\n",
    "\n",
    "$$\n",
    "T(z,t) = \\bar{T} + A exp\\left[{-z\\sqrt{\\frac{\\pi}{\\kappa t_0}}}\\right]cos\\left[{\\frac{2 \\pi t}{t_0} - z\\sqrt{\\frac{\\pi}{\\kappa t_0}}}\\right]\n",
    "$$\n",
    "avec $\\kappa$ diffusivité thermique (m2/s)\n",
    "\n",
    "\n",
    "En vous basant sur la solution à l'équation de diffusivité précédente, estimer les paramètres thermiques du sol"
   ]
  },
  {
   "cell_type": "code",
   "execution_count": 77,
   "metadata": {},
   "outputs": [],
   "source": [
    "#chargement des donnees (stockage \"array\" --> numpy)\n",
    "data11m=np.genfromtxt('https://raw.githubusercontent.com/larroque852/NB_ENS3_geothermie/main/ENS_GEOT_TD_temp_11m.csv',delimiter=',')\n",
    "data6m=np.genfromtxt('https://raw.githubusercontent.com/larroque852/NB_ENS3_geothermie/main/ENS_GEOT_TD_temp_6m.csv',delimiter=',')\n",
    "data2m=np.genfromtxt('https://raw.githubusercontent.com/larroque852/NB_ENS3_geothermie/main/ENS_GEOT_TD_temp_2m.csv',delimiter=',')\n"
   ]
  },
  {
   "cell_type": "markdown",
   "metadata": {},
   "source": [
    "4. Construire un graphique $T = f(z)$ permettant d'estimer l'amplitude des fluctuations temporelles durant une année climatique moyenne"
   ]
  },
  {
   "cell_type": "code",
   "execution_count": null,
   "metadata": {},
   "outputs": [],
   "source": []
  },
  {
   "cell_type": "markdown",
   "metadata": {},
   "source": [
    "## Fonctionnement standard d'une pompe à chaleur ##\n",
    "1. **Système en mode \"chauffage\":** un système de chauffage est basé sur un capteur géothermique en nappe relié à une pompe à chaleur. La température moyenne de l'eau de l'aquifère de surface est de 11°C. Après valorisation, l'eau prélevée est rejetée à l'aquifère à une température de 7°C. La chaleur extraite par le dispositif géothermique est optimisée par la pompe à chaleur afin de délivrer une température $\\theta_{in}$ à l'intérieur. La pompe à chaleur a un coefficient de performance COP = 4.\n",
    "\n",
    "En considérant un débit de pompage Q = 1 L/s, quelle est la puissance délivrable en interne pour chauffer le bâtiment et quelle est la puissance electrique associée nécessaire??"
   ]
  },
  {
   "cell_type": "markdown",
   "metadata": {},
   "source": [
    "*Réponse*\n",
    "\n",
    "- Puissance $H$ délivrée par la pompe à chaleur:\n",
    "$$ H = G + E $$\n",
    "avec $G$ puissance de la source géothermique et $E$ puissance électrique\n",
    "- COP de pompe à chaleur:\n",
    "$$ COP = \\frac{H}{E} $$\n",
    "\n",
    "L'énergie $G$ retirée du système géothermal sur aquifère est exprimé:\n",
    "$$ G = Q \\Delta \\theta C_w $$\n",
    "avec $\\Delta \\theta = \\theta_{out} - \\theta_{inj}$ et $C_w$ chaleur volumique de l'eau\n",
    "\n"
   ]
  },
  {
   "cell_type": "code",
   "execution_count": 78,
   "metadata": {},
   "outputs": [],
   "source": [
    "import numpy as np\n",
    "import pandas as pd\n",
    "import scipy.special as sp\n",
    "import matplotlib.pyplot as plt\n"
   ]
  },
  {
   "cell_type": "markdown",
   "metadata": {},
   "source": [
    "A partir de la définition de la COP, on peut exprimer la puissance G:\n",
    "\n",
    "$$ G = H \\left[{1 - \\frac{1}{COP}}\\right] $$\n",
    "\n",
    "et donc pour la puissance délivrée $H$:\n",
    "\n",
    "$$ H = G\\left[{1 - \\frac{1}{COP}}\\right] $$\n",
    "\n",
    "Comme:\n",
    "\n",
    "$$ COP = \\frac{H}{E} $$\n",
    "\n",
    "La puissance électrique $E$ s'exprime:\n",
    "\n",
    "$$ E = \\frac{H}{COP} $$\n"
   ]
  },
  {
   "cell_type": "code",
   "execution_count": null,
   "metadata": {},
   "outputs": [],
   "source": []
  },
  {
   "cell_type": "markdown",
   "metadata": {},
   "source": [
    "2. **Système en mode \"rafraichissement\":** on considère un pompage qui fournit un débit Q = 1 L/s d'une eau à la température de $\\theta_{out}$ = 10°C. Un \"effet froid\" peut être obtenu par circulation passive du fluide dans le batiment. Cela se traduit par une augmentation de la température du fluide de 3°C. Quelle est la puissance de rafraichissement ainsi obtenue? Pour augmenter cet effetd e froid, on utilise une pompe à chaleur de COPc = 5.5 qui permet de valoriser un $\\Delta \\theta$  = 5 °C. Quelle est la puissance de rafraichissement obtenue et quelle est la consommation électrique associée?"
   ]
  },
  {
   "cell_type": "markdown",
   "metadata": {},
   "source": [
    "La puissance de rafraichissement géothermale $C$ peut être définie:\n",
    "$$\n",
    "C = Q \\Delta \\theta C_w\n",
    "$$\n",
    "avec $\\Delta \\theta$ la différence de température entre eau pompée et eau en sortie de circuit de rafraichissement."
   ]
  },
  {
   "cell_type": "code",
   "execution_count": null,
   "metadata": {},
   "outputs": [],
   "source": []
  },
  {
   "cell_type": "markdown",
   "metadata": {},
   "source": [
    "Avec une pompe à chaleur en mode froid, on valorise un $\\Delta \\theta$  = 5 °C avec une COPc = 5.5.\n",
    "La puissance de rafraichissement s'exprime:\n",
    "$$\n",
    "C = \\frac{Q \\Delta \\theta C_w}{1 + 1/COP_c}\n",
    "$$\n"
   ]
  },
  {
   "cell_type": "code",
   "execution_count": null,
   "metadata": {},
   "outputs": [],
   "source": []
  },
  {
   "cell_type": "markdown",
   "metadata": {},
   "source": [
    "## Dimensionnement d'un dispositif de géothermie très basse énergie - Dispositif vertical ##\n",
    "\n",
    "On considère une maison particulière ancienne assez bien isolée d'une superficie de 120 m2, de 2.5 m de hauteur sous plafond et située sur un sol argileux sec.\n",
    "La température hivernale locale peut atteindre les -6 \\degres C. La température de chauffage projetée est de 19°C.\n",
    "\n",
    "La puissance P (W) à installer pour une habitation particulière peut être approchée par:\n",
    "$$\n",
    "P = G \\times V \\times \\left[ Tint - Text \\right]\n",
    "$$\n",
    "<figure>\n",
    "  <IMG SRC=\"dim.png\" WIDTH=500 ALIGN=\"center\">\n",
    "</figure>\n",
    "    \n",
    "La maison est située sur des formations constituées par des sables et graviers saturés.\n",
    "Le dispositif de chauffage envisagé est constitué par un système de sondes verticales couplées en surface à une pompe à chaleur. La pompe à chaleur fournie dans le cahier des charges présente un coefficient de performance COP = 4.\n",
    "\n",
    "<figure>\n",
    "  <IMG SRC=\"sonde4.png\" WIDTH=500 ALIGN=\"center\">\n",
    "</figure>\n",
    "    \n",
    "1. Calculer la puissance à l'entrée de la pompe à chaleur à fournir par le dispositif géothermique."
   ]
  },
  {
   "cell_type": "markdown",
   "metadata": {},
   "source": []
  },
  {
   "cell_type": "markdown",
   "metadata": {},
   "source": [
    "2. Considérant un fonctionnement de pleine charge équivalent de 2400 heures, en fonction de la nature du terrain et d'après la legislation locale qui restreint la longueur de sonde maximale à 60 mètre, estimer le nombre de sonde nécessaire pour restituer la puissance de chauffe à l'entrée de la PAC."
   ]
  },
  {
   "cell_type": "code",
   "execution_count": null,
   "metadata": {},
   "outputs": [],
   "source": []
  },
  {
   "cell_type": "markdown",
   "metadata": {},
   "source": [
    "3. On considère un écoulement orienté Ouest-Est de l'ordre de quelques cm/jour à travers les graviers et sables. La conductivité hydraulique moyenne est de l'ordre de 10-3 m/s. La porosité efficace est de l'ordre de 15%. D'après la bibliographie, les propriétés thermiques du sol sont les suivantes:\n",
    "- Cm = 2.3e6 J/m3/K chaleur vol. moyenne du sol\n",
    "- Cw = 4.18e6 J/m3/K chaleur moyenne de l'eau\n",
    "- lm = 1.6 W/m/K cond. therm. moyenne du sol\n",
    "\n",
    "Proposer une cartographie du panache thermique sur une zone de coordonnées (Xmin = -20 m, Xmax = 100 m, Ymin = -50 m, Ymax = 50 m)\n",
    "Les coordonnées des sondes dans le repère cartésien sont:\n",
    "X1 = 0 m et Y1 = 5 m\n",
    "X2 = 0 m et Y2 = -5 m\n",
    "\n",
    "Estimer l'impact de l'exploitation du champ de sonde dimensionné. Quelles remarques pouvez vous faire sur les r&ésultats obtenus?\n",
    "\n",
    "**Solution analytique MILS en régime permanent et gradient hydraulique**\n",
    "\n",
    "$$\tT(x,y) = T_0 + \\frac{q_{b}}{2 \\pi \\lambda_m}exp\\left[{\\frac{V_T x}{2\\alpha}}\\right] K_0 \\left[{\\frac{V_T\\sqrt{x^2 + y^2}}{2\\alpha}}\\right]\n",
    "$$\n",
    "avec $K_0$ fonction de Bessel modifiée du second genre d'ordre 0"
   ]
  },
  {
   "cell_type": "code",
   "execution_count": 79,
   "metadata": {},
   "outputs": [],
   "source": [
    "#creation fonction solution Moving Infinite Line Source (MILS): Diao et al. 2004 Sutton et al. 2004\n",
    "\n",
    "# x,y: x-y coordinates [m]\n",
    "# ro: borehole radius [m]\n",
    "# z: vertical coordinate [m]\n",
    "# H: borehole length [m]\n",
    "# lm: bulk thermal conductivity [W/m/K]\n",
    "# Cm: volumetric heat capacity of the porous medium [J/m3/K] \n",
    "# vT: heat transport velocity [m/s]\n",
    "# t: simulation time [s]\n",
    "# QL : heat flow rate per unit length of borehole [W/m]\n",
    "# ax: longitudinal thermal dispersivity \n",
    "# ay: transverse thermal dispersivity\n",
    "# Please note that there are some variables which are not used in the \n",
    "# current subfunction.\n",
    "\n",
    "def MILS_alph_ss(x,y,X0,Y0,ro,z,H,lm,Cm,vT,t,QL,ax,ay):\n",
    "    alpha = 0 #angle ecoulement par rappor 0x\n",
    "    kappa = lm/Cm;\n",
    "    r = np.sqrt((x-X0) ** 2 + (y-Y0) ** 2)\n",
    "    alpha_rad = -alpha*np.pi/180\n",
    "    x = x - X0                                                          \n",
    "    y = y - Y0 \n",
    "    x = np.cos(alpha_rad)*x - np.sin(alpha_rad)*y                  \n",
    "    y = np.sin(alpha_rad)*x + np.cos(alpha_rad)*y \n",
    "    return QL * (1 / 2 / 3.1415 / lm) * np.exp(vT * x / 2 / kappa) * sp.k0(vT * np.sqrt(x ** 2+y ** 2) / 2 /kappa)\n",
    "\n"
   ]
  },
  {
   "cell_type": "markdown",
   "metadata": {},
   "source": [
    "La solution analytique calcule l'impact de la sonde en régime permanent. Hors la puissance linéique retenue pour chaque sonde corresponds à une extraction de 2400h/an.\n",
    "\n",
    "Il faut recalculer une puissance linéique équivalente lissée sur une année moyenne pour utiliser la solution analytique.\n",
    "On peut ensuite relancer la solution 2D pour les deux sondes."
   ]
  },
  {
   "cell_type": "markdown",
   "metadata": {},
   "source": [
    "4. Estimer l'impact thermique à n point d'observation situé à 15 mètre à l'Est du champs de sondes thermique les 10 premières années d'exploitation\n",
    "\n",
    "**Modèle MILS transitoire**\n",
    "$$\n",
    "T(x,y,t) = T_0 + \\frac{q_{tb}}{4 \\pi \\lambda_m} exp\\left[{\\frac{v_t x}{16 D_t^2 \\psi}}\\right]\\int_{r^2 / 4 D_t t}^{\\infty} exp\\left[{-\\psi - \\frac{v_t^2r^2}{2 D_t}}\\right] \\, \\frac{\\mathrm{d}\\psi}{\\psi}\n",
    "$$"
   ]
  },
  {
   "cell_type": "code",
   "execution_count": 1,
   "metadata": {},
   "outputs": [],
   "source": [
    "from scipy.integrate import quad  # Module d'intégration \"quad\"\n",
    "\n",
    "import numpy as np\n",
    "import  pandas as pd\n",
    "import scipy.special as sp\n",
    "import matplotlib.pyplot as plt\n",
    "#import seaborn as sns\n",
    "\n",
    "#ro borehole radius [m]\n",
    "#z  vertical coordinate [m]\n",
    "#H borehole length [m]\n",
    "#lm bulk thermal conductivity [W/m/K]\n",
    "#Cm volumetric heat capacity of the porous medium [J/m3/K] \n",
    "#vT #heat transport velocity [m/s]\n",
    "#t = simulation time [s]\n",
    "#ax = longitudinal thermal dispersivity \n",
    "#ay = transverse thermal dispersivity\n",
    "\n",
    "def MILS(x,y,X0,Y0,ro,z,H,lm,Cm,vT,t,QL,ax,ay):\n",
    "    Dt = lm/Cm;\n",
    "    r1 = ((x-X0) ** 2 + (y-Y0) ** 2)\n",
    "    def kernel(psi):\n",
    "        return (1/psi) * np.exp(-psi-vT ** 2 * r1 / 16 / Dt ** 2 / psi)\n",
    "    return QL*(1/4/3.1415/lm) * np.exp(vT * x / 2 / Dt) * (quad(kernel,r1 / 4 / Dt /t,np.inf)[0])\n",
    "\n"
   ]
  },
  {
   "cell_type": "markdown",
   "metadata": {},
   "source": [
    "## Dimensionnement d'un dispositif de géothermie très basse énergie sur nappe ##\n",
    "\n",
    "On considère un aquifère de transmissivité $T =$ 150 m2/s et d'épaisseur de 75 mètres. Le coefficient d'emmagasinement de l'aquifère est de l'ordre de 0.002. La porosité efficace est de 10%. Le gradient hydraulique ouest-est est de l'ordre de 0.01.\n",
    "\n",
    "La capacité volumétrique moyenne de l'aquifère est $C_m$ = 2.3e6 J/m3/K et celle de l'eau est $C_w$ = 4.18e6 J/m3/K ."
   ]
  },
  {
   "cell_type": "markdown",
   "metadata": {},
   "source": [
    "1. On considère un puits de rayon $r$ = 100 mm qui capte l'aquifère. Le puits est pompé durant 21 jours au débit de 25 L/s.\n",
    "Quel est le rabattement attendu au puits à la fin de la période de pompage. Quelle critique peut on formuler sur ce résultat?"
   ]
  },
  {
   "cell_type": "code",
   "execution_count": 81,
   "metadata": {},
   "outputs": [],
   "source": [
    "import numpy as np\n",
    "import pandas as pd\n",
    "import scipy.special as sp\n",
    "import math as math\n",
    "import matplotlib.pyplot as plt\n",
    "\n"
   ]
  },
  {
   "cell_type": "markdown",
   "metadata": {},
   "source": [
    "2. L'eau prélevée est réinjectée dans un puits situé à $d$ = 100 mètres en aval hydraulique du puits de pompage. Quel rabattement est envisageable au puits de pompage après 3 semaine d'exploitation du doublet?\n"
   ]
  },
  {
   "cell_type": "code",
   "execution_count": null,
   "metadata": {},
   "outputs": [],
   "source": []
  },
  {
   "cell_type": "markdown",
   "metadata": {},
   "source": [
    "BONUS Réaliser une carte d'impact hydraulique rabattement + gradient hydraulique?"
   ]
  },
  {
   "cell_type": "code",
   "execution_count": null,
   "metadata": {},
   "outputs": [],
   "source": []
  },
  {
   "cell_type": "markdown",
   "metadata": {},
   "source": [
    "3. Caractérisation thermique et hydraulique du doublet\n",
    "\n",
    "\n",
    "- temps d'arrivée front hydraulique au puits $t^F_{hyd}$:\n",
    "$$\n",
    "t^F_{hyd} = \\frac{d n_e}{K i}\\left[ {\\frac{\\beta}{\\sqrt{\\beta-1}}} tan^{-1} \\left( {\\frac{1}{\\sqrt{\\beta - 1}}} \\right) -1 \\right]\n",
    "$$\n",
    "- temps d'arrivée front thermique au puits $t^F_{hyd}$:\n",
    "$$\n",
    "t_{the} = \\frac{C_{aq}}{C_w} \\frac{L}{K i}\\left[ {\\frac{\\beta}{\\sqrt{\\beta - 1}}} tan^{-1} \\left( {\\frac{1}{\\sqrt{\\beta - 1}}} \\right) - 1 \\right]\n",
    "$$\n"
   ]
  },
  {
   "cell_type": "code",
   "execution_count": null,
   "metadata": {},
   "outputs": [],
   "source": []
  },
  {
   "cell_type": "markdown",
   "metadata": {},
   "source": [
    "- Evolution température au puits de pompage post-percée thermique"
   ]
  },
  {
   "cell_type": "code",
   "execution_count": null,
   "metadata": {},
   "outputs": [],
   "source": []
  },
  {
   "cell_type": "markdown",
   "metadata": {},
   "source": [
    "3. L'aquifère précédent a une épaisseur de 75 mètres. Le gradient hydraulique ouest-est est de l'ordre de 0.01. On injecte un traceur chimique dans le puits de ré-injection. Dans ce puits, l'eau injectée au puits de reinjection est chauffée de 10°C. Au bout de combien de temps le traceur atteindra un piézométre situé à 150 mètres dans le sens de l'écoulement. Combien de temps mettra le front thermique à atteindre ce piézomètre?\n",
    "\n"
   ]
  },
  {
   "cell_type": "code",
   "execution_count": null,
   "metadata": {},
   "outputs": [],
   "source": []
  },
  {
   "cell_type": "code",
   "execution_count": null,
   "metadata": {},
   "outputs": [],
   "source": []
  }
 ],
 "metadata": {
  "kernelspec": {
   "display_name": "Python 3",
   "language": "python",
   "name": "python3"
  },
  "language_info": {
   "codemirror_mode": {
    "name": "ipython",
    "version": 3
   },
   "file_extension": ".py",
   "mimetype": "text/x-python",
   "name": "python",
   "nbconvert_exporter": "python",
   "pygments_lexer": "ipython3",
   "version": "3.8.3"
  }
 },
 "nbformat": 4,
 "nbformat_minor": 4
}
